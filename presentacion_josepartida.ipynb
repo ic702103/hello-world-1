{
 "cells": [
  {
   "cell_type": "markdown",
   "metadata": {},
   "source": [
    "# Presentacion \n",
    "##  <font color = green > Jose Partida \n",
    "<img src= \"https://scontent-dfw5-1.xx.fbcdn.net/v/t1.0-9/10846428_752423994812660_5143306296281838243_n.jpg?_nc_cat=0&_nc_eui2=AeEG4AtoTcJu43PV4C5jF2Rdbk3VokE9INFv35aj5aQ-ADwNsLQH1zf5RUVvUsppN9DAcseMlNFVRFNRXnFK3b-QAczZhIm5zjJDWAHpB9epUg&oh=45e7d08b94c1631ceeb434ee87e36ddb&oe=5B87E76A\" width =200 height= 200>\n",
    "    \n",
    "- 23 años \n",
    "- Morelia\n",
    "- Ing. civil"
   ]
  },
  {
   "cell_type": "markdown",
   "metadata": {},
   "source": [
    "> me gustan los deportes en general, en especial el enduro, salir con mis amigos, ir a la playa, etc.\n",
    "\n",
    "> lo que espero de esta materia es aprender a utilizar y a escribir codigos en la plataforma de anagonda y de jupyter notebook. todo esto pudiendolo aplicar en un futuro a mi carrera"
   ]
  },
  {
   "cell_type": "code",
   "execution_count": null,
   "metadata": {},
   "outputs": [],
   "source": []
  }
 ],
 "metadata": {
  "kernelspec": {
   "display_name": "Python 3",
   "language": "python",
   "name": "python3"
  },
  "language_info": {
   "codemirror_mode": {
    "name": "ipython",
    "version": 3
   },
   "file_extension": ".py",
   "mimetype": "text/x-python",
   "name": "python",
   "nbconvert_exporter": "python",
   "pygments_lexer": "ipython3",
   "version": "3.6.4"
  }
 },
 "nbformat": 4,
 "nbformat_minor": 2
}
